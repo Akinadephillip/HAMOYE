{
  "cells": [
    {
      "cell_type": "markdown",
      "metadata": {
        "id": "view-in-github",
        "colab_type": "text"
      },
      "source": [
        "<a href=\"https://colab.research.google.com/github/Akinadephillip/HAMOYE/blob/main/.ipynb\" target=\"_parent\"><img src=\"https://colab.research.google.com/assets/colab-badge.svg\" alt=\"Open In Colab\"/></a>"
      ]
    },
    {
      "cell_type": "markdown",
      "id": "1ecf3a4d-dbf7-457c-af08-31541558a84c",
      "metadata": {
        "id": "1ecf3a4d-dbf7-457c-af08-31541558a84c"
      },
      "source": [
        "## Assignment <a id=\"section10\"></a>\n",
        "\n",
        "**Instruction:** Answer each question on a separate cell, either in a markdown or code cell depending on the question."
      ]
    },
    {
      "cell_type": "markdown",
      "id": "488e215b-e99a-4c74-9f87-fff4a6665b4e",
      "metadata": {
        "id": "488e215b-e99a-4c74-9f87-fff4a6665b4e"
      },
      "source": [
        "## Question 1\n",
        "\n",
        "1. Why is consistent indentation important in Python, and what error does Python throw if the indentation in inconsistent?"
      ]
    },
    {
      "cell_type": "markdown",
      "source": [
        "Consistent indentation is important in Python because it serves as the primary means of delineating blocks of code, such as loops, conditionals, and function definitions. Python relies on indentation to determine the structure and nesting of code blocks."
      ],
      "metadata": {
        "id": "azFBH5sHUsGT"
      },
      "id": "azFBH5sHUsGT"
    },
    {
      "cell_type": "markdown",
      "id": "8bbca766-02b7-4e40-879c-5a4e7230544e",
      "metadata": {
        "id": "8bbca766-02b7-4e40-879c-5a4e7230544e"
      },
      "source": [
        "## Question 2\n",
        "\n",
        "2. What are the mutable and immutable data types in Python? Give two examples of each.\n"
      ]
    },
    {
      "cell_type": "markdown",
      "id": "502dfe64-54ba-4e12-8d18-755a713109f8",
      "metadata": {
        "id": "502dfe64-54ba-4e12-8d18-755a713109f8"
      },
      "source": [
        "## Question 3\n",
        "\n",
        "3. How do you convert a floating-point number to an integer, and what happenss to the fractional part after conversion?"
      ]
    },
    {
      "cell_type": "markdown",
      "source": [
        "Python can be used to convert a floating-point number to an integer using the int() function.\n",
        "To convert a floating-point number to an integer, Python truncates (removes) the fractional part of the number.\n",
        "This means that the fractional part is simply discarded, and the resulting integer will represent the whole number part of the original floating-point number"
      ],
      "metadata": {
        "id": "BOnbJKsCULTp"
      },
      "id": "BOnbJKsCULTp"
    },
    {
      "cell_type": "markdown",
      "id": "af69f1d7-f8cd-4f60-b81a-e5b29c278e9a",
      "metadata": {
        "id": "af69f1d7-f8cd-4f60-b81a-e5b29c278e9a"
      },
      "source": [
        "## Question 4\n",
        "\n",
        "4. What is the difference between a list and a tuple?\n"
      ]
    },
    {
      "cell_type": "markdown",
      "source": [
        "Lists and tuples are both sequence data types in Python, but they have some differences in terms of mutability, syntax, and usage."
      ],
      "metadata": {
        "id": "u5AwdP0FT4SP"
      },
      "id": "u5AwdP0FT4SP"
    },
    {
      "cell_type": "markdown",
      "id": "f31571de-6ed9-4958-a8d7-71b584ed6e2c",
      "metadata": {
        "id": "f31571de-6ed9-4958-a8d7-71b584ed6e2c"
      },
      "source": [
        "## Question 5\n",
        "\n",
        "5. print out the datatype for the following variables?\n",
        "   ```python\n",
        "   a = 123\n",
        "   b = [1, 2, 3]\n",
        "   c = \"Python programming Language\"\n",
        "   d = (1, 2, 3)\n",
        "   e = {\"A\": 1, \"B\": 2, \"C\": 3}\n",
        "    ```"
      ]
    },
    {
      "cell_type": "markdown",
      "id": "3a041f8e-cc9a-42e5-923f-394973cbbe63",
      "metadata": {
        "id": "3a041f8e-cc9a-42e5-923f-394973cbbe63"
      },
      "source": [
        "## Question 6\n",
        "\n",
        "6. What is the difference between a comment and a docstring in Python, and how does Python treat each differently?"
      ]
    },
    {
      "cell_type": "markdown",
      "source": [
        "Comments:\n",
        "Comments are used to annotate code for human readers.\n",
        "They are prefixed with the # symbol in Python.\n",
        "Comments are ignored by the Python interpreter during execution.\n",
        "They are used to explain the purpose of code, provide context, or temporarily disable code.\n",
        "Comments can span multiple lines if each line is prefixed with #.\n",
        "\n",
        "Docstrings:\n",
        "Docstrings are used to provide documentation for modules, classes, functions, and methods in Python.\n",
        "They are enclosed in triple quotes (''' or \"\"\") and placed immediately after the definition of the module, class, function, or method.\n",
        "Docstrings are accessible via the __doc__ attribute of the respective object.\n",
        "Docstrings are typically more structured and follow specific conventions, such as using reStructuredText or Google-style docstring formats.\n",
        "Unlike comments, docstrings are retained in the compiled bytecode and can be accessed at runtime."
      ],
      "metadata": {
        "id": "MeqGPOgBTNOg"
      },
      "id": "MeqGPOgBTNOg"
    },
    {
      "cell_type": "markdown",
      "id": "f9ee7e70-94fe-4f5a-8f73-4836c211ed57",
      "metadata": {
        "id": "f9ee7e70-94fe-4f5a-8f73-4836c211ed57"
      },
      "source": [
        "## Question 7\n",
        "\n",
        "7. Do the following conversions and print out their new datatypes (Hint: use the type() function).\n",
        "  - ```1234``` to ```str```\n",
        "  - ```\"iPython\"``` to ```list```\n",
        "  - ```23.5``` to ```int```\n",
        "  - ```45``` to ```float```"
      ]
    },
    {
      "cell_type": "code",
      "source": [
        "# Converting 1234 to str\n",
        "converted_str = str(1234)\n",
        "print(converted_str)\n",
        "print(type(converted_str))\n",
        "\n",
        "# Converting \"iPython\" to list\n",
        "converted_list = list(\"iPython\")\n",
        "print(converted_list)\n",
        "print(type(converted_list))\n",
        "\n",
        "# Converting 20.5 to int (Note: this will result in a ValueError because you can't directly convert a float with decimal points to an integer)\n",
        "try:\n",
        "    converted_int = int(23.5)\n",
        "    print(converted_int)\n",
        "except ValueError as e:\n",
        "    print(\"ValueError:\", e)\n",
        "\n",
        "# Converting 25 to float\n",
        "converted_float = float(45)\n",
        "print(converted_float)\n",
        "print(type(converted_float))\n"
      ],
      "metadata": {
        "colab": {
          "base_uri": "https://localhost:8080/"
        },
        "id": "WC2sVeyASkt4",
        "outputId": "b28612a7-a50d-4248-a47b-485d1b5ec3f6"
      },
      "id": "WC2sVeyASkt4",
      "execution_count": 2,
      "outputs": [
        {
          "output_type": "stream",
          "name": "stdout",
          "text": [
            "1234\n",
            "<class 'str'>\n",
            "['i', 'P', 'y', 't', 'h', 'o', 'n']\n",
            "<class 'list'>\n",
            "23\n",
            "45.0\n",
            "<class 'float'>\n"
          ]
        }
      ]
    },
    {
      "cell_type": "markdown",
      "id": "20cab329-3a5c-4883-9a8a-943d2a589fd6",
      "metadata": {
        "id": "20cab329-3a5c-4883-9a8a-943d2a589fd6"
      },
      "source": [
        "## Question 8\n",
        "\n",
        "8. Create a dictionary containing the following information (you can just make up the information):\n",
        "    - Name\n",
        "    - Age\n",
        "    - Sex\n",
        "    - Profession\n",
        "    - Religion\n",
        "    - Nationality\n"
      ]
    },
    {
      "cell_type": "code",
      "source": [
        "my_info = {\n",
        "    \"Name\": \"Phillip Akinade\",\n",
        "    \"Age\": 27,\n",
        "    \"Sex\": \"Male\",\n",
        "    \"Profession\": \"Business Intelligence Analyst\",\n",
        "    \"Religion\": \"Christianity\",\n",
        "    \"Nationality\": \"Nigrian\"\n",
        "}\n"
      ],
      "metadata": {
        "id": "5KUl8218EeNb"
      },
      "id": "5KUl8218EeNb",
      "execution_count": null,
      "outputs": []
    },
    {
      "cell_type": "markdown",
      "id": "6ae93d1e-e8f3-444b-b7e0-4d4bebee3dce",
      "metadata": {
        "id": "6ae93d1e-e8f3-444b-b7e0-4d4bebee3dce"
      },
      "source": [
        "## Question 9\n",
        "\n",
        "9. Change the elements at index 3, 6, and 7 of the list ```[24, 56, \"programming\", \"javascript\", 56, 54.3, \"data analytics\", \"Argentina\"]``` to \"python\", \"data science\", and \"Nigeria\" respectfully."
      ]
    },
    {
      "cell_type": "code",
      "source": [
        "my_list = [27, 36, \"power bi\", \"sql\", 10, 11.5, \"data analysis\", \"oyo state\"]\n",
        "my_list[3] = \"python\"\n",
        "my_list[6] = \"data science\"\n",
        "my_list[7] = \"Nigeria\"\n",
        "print(my_list)\n"
      ],
      "metadata": {
        "colab": {
          "base_uri": "https://localhost:8080/"
        },
        "id": "ybHjG0vZRc0n",
        "outputId": "2635686d-3a42-4e66-aa13-98188d838e14"
      },
      "id": "ybHjG0vZRc0n",
      "execution_count": 1,
      "outputs": [
        {
          "output_type": "stream",
          "name": "stdout",
          "text": [
            "[27, 36, 'power bi', 'python', 10, 11.5, 'data science', 'Nigeria']\n"
          ]
        }
      ]
    },
    {
      "cell_type": "markdown",
      "id": "997a374c-daf5-4183-81a4-c390a2b59113",
      "metadata": {
        "id": "997a374c-daf5-4183-81a4-c390a2b59113"
      },
      "source": [
        "## Question 10\n",
        "\n",
        "- Create a list, tuple and set containing 10 elements each, having a mix of integer, float and string datatypes."
      ]
    },
    {
      "cell_type": "code",
      "source": [
        "my_list = [7, 7.5, 'eight', 9, 'ten', 11, 12, 'thirteen', 14, 14.5]\n"
      ],
      "metadata": {
        "id": "W5S_EwS-Dd6_"
      },
      "id": "W5S_EwS-Dd6_",
      "execution_count": null,
      "outputs": []
    },
    {
      "cell_type": "code",
      "source": [
        "my_tuple = (11, 'twelve', 13.5, 14, 'fifteen', 16, 17.0, 'eighteen', 19, 20)\n"
      ],
      "metadata": {
        "id": "Y4q6sgUaDgrX"
      },
      "id": "Y4q6sgUaDgrX",
      "execution_count": null,
      "outputs": []
    },
    {
      "cell_type": "code",
      "source": [
        "my_set = {21, 'twenty-two', 23.5, 24, 'twenty-five', 26, 27.0, 'twenty-eight', 29, 30}\n"
      ],
      "metadata": {
        "id": "RjeME4l_Ds3c"
      },
      "id": "RjeME4l_Ds3c",
      "execution_count": null,
      "outputs": []
    }
  ],
  "metadata": {
    "kernelspec": {
      "display_name": "Python 3 (ipykernel)",
      "language": "python",
      "name": "python3"
    },
    "language_info": {
      "codemirror_mode": {
        "name": "ipython",
        "version": 3
      },
      "file_extension": ".py",
      "mimetype": "text/x-python",
      "name": "python",
      "nbconvert_exporter": "python",
      "pygments_lexer": "ipython3",
      "version": "3.11.7"
    },
    "colab": {
      "provenance": [],
      "include_colab_link": true
    }
  },
  "nbformat": 4,
  "nbformat_minor": 5
}