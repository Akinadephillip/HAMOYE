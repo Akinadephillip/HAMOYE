{
  "cells": [
    {
      "cell_type": "markdown",
      "metadata": {
        "id": "view-in-github",
        "colab_type": "text"
      },
      "source": [
        "<a href=\"https://colab.research.google.com/github/Akinadephillip/HAMOYE/blob/main/Project_assignment.ipynb\" target=\"_parent\"><img src=\"https://colab.research.google.com/assets/colab-badge.svg\" alt=\"Open In Colab\"/></a>"
      ]
    },
    {
      "cell_type": "markdown",
      "id": "0c36fbcb-a561-4530-89b8-7e1b036695ea",
      "metadata": {
        "id": "0c36fbcb-a561-4530-89b8-7e1b036695ea"
      },
      "source": [
        "# Assignment - Week 2\n",
        "\n",
        "**_NOTE: USE COMMENTS IN YOU CODE_**"
      ]
    },
    {
      "cell_type": "markdown",
      "id": "4f8e89b4-118b-4c24-9cf5-4f272bd5972c",
      "metadata": {
        "id": "4f8e89b4-118b-4c24-9cf5-4f272bd5972c"
      },
      "source": [
        "## Question 1\n",
        "1a) Given the variables `name = \"Alice\"` and `age = 30`, use old-style `%` formatting to construct and print the sentence: `\"Alice is 30 years old.\"`\n",
        "\n",
        "1b) You have the variables `item = \"coffee\"` and `price = 2.5`. Use the `str.format()` method to format and print the string: `\"The price of coffee is 2.5 dollars.\"` Ensure the item name and price are dynamically inserted into the string.\n",
        "\n",
        " 1c) With the variables `planet = \"Mars\"` and `distance = 54.6`, use an f-string to print the following statement: `\"Mars is 54.6 million kilometers away from Earth.\"` Embed the variables directly into the string.\n"
      ]
    },
    {
      "cell_type": "code",
      "source": [
        "name = \"Alice\"\n",
        "age = 30\n",
        "sentence = \"%s is %d years old.\" % (name, age)\n",
        "print(sentence)\n",
        "\n",
        "item = \"coffee\"\n",
        "price = 2.5\n",
        "sentence = \"The price of {} is {} dollars.\".format(item, price)\n",
        "print(sentence)\n"
      ],
      "metadata": {
        "id": "if8XRfowh1ZY",
        "outputId": "44da7eb8-8cf2-41de-febf-7774ed6090a6",
        "colab": {
          "base_uri": "https://localhost:8080/"
        }
      },
      "id": "if8XRfowh1ZY",
      "execution_count": 8,
      "outputs": [
        {
          "output_type": "stream",
          "name": "stdout",
          "text": [
            "Alice is 30 years old.\n",
            "The price of coffee is 2.5 dollars.\n"
          ]
        }
      ]
    },
    {
      "cell_type": "markdown",
      "id": "5505ab94-7105-4b57-9f07-b4d52e2f3f0d",
      "metadata": {
        "id": "5505ab94-7105-4b57-9f07-b4d52e2f3f0d"
      },
      "source": [
        "## Question 2\n",
        "Given two variables `a = 10` and `b = 20`, use a comparison operator to check if `a` is less than `b` and print the result."
      ]
    },
    {
      "cell_type": "code",
      "source": [
        "a = 10\n",
        "b = 20\n",
        "\n",
        "if a < b:\n",
        "    print(\"a is less than b\")\n",
        "else:\n",
        "    print(\"a is not less than b\")\n"
      ],
      "metadata": {
        "id": "DPJqA_BMit6s",
        "outputId": "7b80387f-69b9-4e29-c146-2afcdf1f90d8",
        "colab": {
          "base_uri": "https://localhost:8080/"
        }
      },
      "id": "DPJqA_BMit6s",
      "execution_count": 9,
      "outputs": [
        {
          "output_type": "stream",
          "name": "stdout",
          "text": [
            "a is less than b\n"
          ]
        }
      ]
    },
    {
      "cell_type": "markdown",
      "id": "da64a520-482b-418a-80be-8740ab784411",
      "metadata": {
        "id": "da64a520-482b-418a-80be-8740ab784411"
      },
      "source": [
        "## Question 5\n",
        "Create a list `colors = ['red', 'blue', 'green']` and use a membership operator to check if `'yellow'` is in `colors`. Print `True` if it is, and `False` otherwise."
      ]
    },
    {
      "cell_type": "code",
      "source": [
        "colors = ['red', 'blue', 'green']\n",
        "\n",
        "if 'yellow' in colors:\n",
        "    print(True)\n",
        "else:\n",
        "    print(False)\n"
      ],
      "metadata": {
        "id": "swJZJwBVi51Y",
        "outputId": "4106fe81-8b4e-4c01-8d0a-04de2ebe08c9",
        "colab": {
          "base_uri": "https://localhost:8080/"
        }
      },
      "id": "swJZJwBVi51Y",
      "execution_count": 10,
      "outputs": [
        {
          "output_type": "stream",
          "name": "stdout",
          "text": [
            "False\n"
          ]
        }
      ]
    },
    {
      "cell_type": "markdown",
      "id": "ba60ac06-e524-4fc6-96ab-fdc16ca5bb5c",
      "metadata": {
        "id": "ba60ac06-e524-4fc6-96ab-fdc16ca5bb5c"
      },
      "source": [
        "## Question 4\n",
        "Using the variables `x = 5` and `y = 10`, write a Python expression using logical operators that checks whether `x` is less than `y` and `x` is not equal to `y`. Print the result."
      ]
    },
    {
      "cell_type": "code",
      "source": [
        "x = 5\n",
        "y = 10\n",
        "\n",
        "result = (x < y) and (x != y)\n",
        "print(result)\n"
      ],
      "metadata": {
        "id": "KfRYsnTFjSvt",
        "outputId": "d310e789-14d9-4cd3-8b52-6feaefb0cdc3",
        "colab": {
          "base_uri": "https://localhost:8080/"
        }
      },
      "id": "KfRYsnTFjSvt",
      "execution_count": 11,
      "outputs": [
        {
          "output_type": "stream",
          "name": "stdout",
          "text": [
            "True\n"
          ]
        }
      ]
    },
    {
      "cell_type": "markdown",
      "id": "d6f66ee5-624d-42f3-b942-bcc06af9bf9c",
      "metadata": {
        "id": "d6f66ee5-624d-42f3-b942-bcc06af9bf9c"
      },
      "source": [
        "## Question 5\n",
        "Take a variable `count = 5`. Use a compound assignment operator to double its value and then decrement it by `2`. Print the final value of `count`.\n"
      ]
    },
    {
      "cell_type": "code",
      "source": [
        "count = 5\n",
        "count *= 2  # Double the value of count\n",
        "count -= 2  # Decrease count by 2\n",
        "print(count)\n"
      ],
      "metadata": {
        "id": "7R2hLa41jjpy",
        "outputId": "e0741ccb-97c9-43d8-e790-ac0c40d9397c",
        "colab": {
          "base_uri": "https://localhost:8080/"
        }
      },
      "id": "7R2hLa41jjpy",
      "execution_count": 12,
      "outputs": [
        {
          "output_type": "stream",
          "name": "stdout",
          "text": [
            "8\n"
          ]
        }
      ]
    },
    {
      "cell_type": "markdown",
      "id": "195cd484-bad0-4b65-82d1-ca6d475f275b",
      "metadata": {
        "id": "195cd484-bad0-4b65-82d1-ca6d475f275b"
      },
      "source": [
        "## Question 6\n",
        "Suppose `mood = \"happy\"`, use logical operators to print `\"Mood is positive\"` if mood is either `\"happy\"` or `\"excited\"`."
      ]
    },
    {
      "cell_type": "code",
      "source": [
        "mood = \"happy\"\n",
        "\n",
        "if mood == \"happy\" or mood == \"excited\":\n",
        "    print(\"Mood is positive\")"
      ],
      "metadata": {
        "id": "HjuIfY3Xkgua",
        "outputId": "29586601-7a14-492b-d285-eb08b5956c00",
        "colab": {
          "base_uri": "https://localhost:8080/"
        }
      },
      "id": "HjuIfY3Xkgua",
      "execution_count": 13,
      "outputs": [
        {
          "output_type": "stream",
          "name": "stdout",
          "text": [
            "Mood is positive\n"
          ]
        }
      ]
    },
    {
      "cell_type": "markdown",
      "id": "3b81efbe-8bfb-40eb-b1f0-537b15b3895b",
      "metadata": {
        "id": "3b81efbe-8bfb-40eb-b1f0-537b15b3895b"
      },
      "source": [
        "## Question 7\n",
        "Take two variables `height = 180` and `weight = 75`. Use compound assignment operators to first add `5` to `height` and then subtract `10` from `weight`. Finally, check if `height` is greater than `170` and `weight` is less than `80` using logical operators, printing `\"Healthy\"` if both conditions are met."
      ]
    },
    {
      "cell_type": "markdown",
      "id": "7a7ed385-5e14-4e7c-9eb2-d7595f9cf49d",
      "metadata": {
        "id": "7a7ed385-5e14-4e7c-9eb2-d7595f9cf49d"
      },
      "source": [
        "## Question 8\n",
        "Given a list `fruits = ['apple', 'banana', 'cherry']`, use the `not` operator with a membership test to check if `'mango'` is not in `fruits`. Print `\"Mango not found\"` if true."
      ]
    },
    {
      "cell_type": "markdown",
      "id": "8b7a7287-0fe0-453d-83b9-fcaa2e05b443",
      "metadata": {
        "id": "8b7a7287-0fe0-453d-83b9-fcaa2e05b443"
      },
      "source": [
        "## Question 9\n",
        "\n",
        "Check if the list below contains the following fruits (\"apple\", \"guava\", \"pawpaw\", \"avocado\") and if it does, print a statement indicating that the list contains the fruits. If it doesn't, add the fruit to the list and print the new fruit list and a statement that says the fruit has been added (hint: use the if-else statement). \\\n",
        "**NOTE**: Write a different if-else statement for each of the item in this list (\"apple\", \"guava\", \"pawpaw\", \"avocado\").\n",
        "\n",
        "```python\n",
        "fruit_list = [\"apple\", \"banana\", \"orange\", \"grape\", \"pineapple\", \"strawberry\", \"watermelon\", \"kiwi\", \"peach\", \"mango\", \"pear\", \"plum\", \"cherry\", \"blueberry\", \"raspberry\", \"lemon\", \"lime\", \"apricot\", \"coconut\", \"fig\"]\n",
        "```\n"
      ]
    },
    {
      "cell_type": "code",
      "source": [
        "fruit_list = [\"apple\", \"banana\", \"orange\", \"grape\", \"pineapple\", \"strawberry\", \"watermelon\", \"kiwi\", \"peach\", \"mango\", \"pear\", \"plum\", \"cherry\"]\n",
        "\n",
        "# Check for \"apple\"\n",
        "if \"apple\" in fruit_list:\n",
        "    print(\"The list contains apple.\")\n",
        "else:\n",
        "    fruit_list.append(\"apple\")\n",
        "    print(\"Apple has been added to the list.\")\n",
        "    print(\"New fruit list:\", fruit_list)\n",
        "\n",
        "# Check for \"guava\"\n",
        "if \"guava\" in fruit_list:\n",
        "    print(\"The list contains guava.\")\n",
        "else:\n",
        "    fruit_list.append(\"guava\")\n",
        "    print(\"Guava has been added to the list.\")\n",
        "    print(\"New fruit list:\", fruit_list)\n",
        "\n",
        "# Check for \"pawpaw\"\n",
        "if \"pawpaw\" in fruit_list:\n",
        "    print(\"The list contains pawpaw.\")\n",
        "else:\n",
        "    fruit_list.append(\"pawpaw\")\n",
        "    print(\"Pawpaw has been added to the list.\")\n",
        "    print(\"New fruit list:\", fruit_list)\n",
        "\n",
        "# Check for \"avocado\"\n",
        "if \"avocado\" in fruit_list:\n",
        "    print(\"The list contains avocado.\")\n",
        "else:\n",
        "    fruit_list.append(\"avocado\")\n",
        "    print(\"Avocado has been added to the list.\")\n",
        "    print(\"New fruit list:\", fruit_list)\n"
      ],
      "metadata": {
        "id": "JENnddYLlBTz",
        "outputId": "09a67788-97a8-4e42-8c7f-00f2c464eb36",
        "colab": {
          "base_uri": "https://localhost:8080/"
        }
      },
      "id": "JENnddYLlBTz",
      "execution_count": 14,
      "outputs": [
        {
          "output_type": "stream",
          "name": "stdout",
          "text": [
            "The list contains apple.\n",
            "Guava has been added to the list.\n",
            "New fruit list: ['apple', 'banana', 'orange', 'grape', 'pineapple', 'strawberry', 'watermelon', 'kiwi', 'peach', 'mango', 'pear', 'plum', 'cherry', 'guava']\n",
            "Pawpaw has been added to the list.\n",
            "New fruit list: ['apple', 'banana', 'orange', 'grape', 'pineapple', 'strawberry', 'watermelon', 'kiwi', 'peach', 'mango', 'pear', 'plum', 'cherry', 'guava', 'pawpaw']\n",
            "Avocado has been added to the list.\n",
            "New fruit list: ['apple', 'banana', 'orange', 'grape', 'pineapple', 'strawberry', 'watermelon', 'kiwi', 'peach', 'mango', 'pear', 'plum', 'cherry', 'guava', 'pawpaw', 'avocado']\n"
          ]
        }
      ]
    },
    {
      "cell_type": "markdown",
      "id": "9dd6a654-5797-4ed1-836d-6c32e006658a",
      "metadata": {
        "id": "9dd6a654-5797-4ed1-836d-6c32e006658a"
      },
      "source": [
        "## Question 10\n",
        "\n",
        "Write a Python program that takes the following student's exam score below and determines their grade based on the following criteria:\n",
        "\n",
        "```python\n",
        "student_a_score = 78\n",
        "student_b_score = 67\n",
        "student_c_score = 92\n",
        "```\n",
        "\n",
        "- If the score is between 90 and 100 (inclusive), print \"Grade: A\"\n",
        "- If the score is between 80 and 89 (inclusive), print \"Grade: B\"\n",
        "- If the score is between 70 and 79 (inclusive), print \"Grade: C\"\n",
        "- If the score is between 60 and 69 (inclusive), print \"Grade: D\"\n",
        "- If the score is below 60, print \"Grade: F\"\n",
        "\n",
        "Instructions:\n",
        "- Use an if-elif-else statement to determine the grade based on the score.\n",
        "- Make separate conditional statements for the three students\n",
        "- Print the corresponding grade message.\n",
        "\n",
        "**Hint: Use comparison and logical operators in your \"conditional statement\"**"
      ]
    },
    {
      "cell_type": "code",
      "source": [
        "# Student scores\n",
        "student_a_score = 78\n",
        "student_b_score = 67\n",
        "student_c_score = 92\n",
        "\n",
        "# Grade determination for student A\n",
        "if 90 <= student_a_score <= 100:\n",
        "    print(\"Student A Grade: A\")\n",
        "elif 80 <= student_a_score <= 89:\n",
        "    print(\"Student A Grade: B\")\n",
        "elif 70 <= student_a_score <= 79:\n",
        "    print(\"Student A Grade: C\")\n",
        "elif 60 <= student_a_score <= 69:\n",
        "    print(\"Student A Grade: D\")\n",
        "else:\n",
        "    print(\"Student A Grade: F\")\n",
        "\n",
        "# Grade determination for student B\n",
        "if 90 <= student_b_score <= 100:\n",
        "    print(\"Student B Grade: A\")\n",
        "elif 80 <= student_b_score <= 89:\n",
        "    print(\"Student B Grade: B\")\n",
        "elif 70 <= student_b_score <= 79:\n",
        "    print(\"Student B Grade: C\")\n",
        "elif 60 <= student_b_score <= 69:\n",
        "    print(\"Student B Grade: D\")\n",
        "else:\n",
        "    print(\"Student B Grade: F\")\n",
        "\n",
        "# Grade determination for student C\n",
        "if 90 <= student_c_score <= 100:\n",
        "    print(\"Student C Grade: A\")\n",
        "elif 80 <= student_c_score <= 89:\n",
        "    print(\"Student C Grade: B\")\n",
        "elif 70 <= student_c_score <= 79:\n",
        "    print(\"Student C Grade: C\")\n",
        "elif 60 <= student_c_score <= 69:\n",
        "    print(\"Student C Grade: D\")\n",
        "else:\n",
        "    print(\"Student C Grade: F\")\n"
      ],
      "metadata": {
        "id": "vLl32BlEj96o",
        "outputId": "e27208a0-08de-4f50-b16b-c662b4846184",
        "colab": {
          "base_uri": "https://localhost:8080/"
        }
      },
      "id": "vLl32BlEj96o",
      "execution_count": 15,
      "outputs": [
        {
          "output_type": "stream",
          "name": "stdout",
          "text": [
            "Student A Grade: C\n",
            "Student B Grade: D\n",
            "Student C Grade: A\n"
          ]
        }
      ]
    }
  ],
  "metadata": {
    "kernelspec": {
      "display_name": "Python 3 (ipykernel)",
      "language": "python",
      "name": "python3"
    },
    "language_info": {
      "codemirror_mode": {
        "name": "ipython",
        "version": 3
      },
      "file_extension": ".py",
      "mimetype": "text/x-python",
      "name": "python",
      "nbconvert_exporter": "python",
      "pygments_lexer": "ipython3",
      "version": "3.12.2"
    },
    "colab": {
      "provenance": [],
      "include_colab_link": true
    }
  },
  "nbformat": 4,
  "nbformat_minor": 5
}